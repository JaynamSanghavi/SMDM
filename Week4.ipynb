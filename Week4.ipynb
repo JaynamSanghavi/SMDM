{
 "cells": [
  {
   "cell_type": "markdown",
   "id": "6d982e21-e575-4216-be85-d43c1ed3727f",
   "metadata": {},
   "source": [
    "#### Week 4 - Network Analysis\n"
   ]
  },
  {
   "cell_type": "code",
   "execution_count": null,
   "id": "327e1001-9956-4169-a8de-1c5b242489f1",
   "metadata": {},
   "outputs": [],
   "source": [
    "import networkx as nx\n",
    "import matplotlib.pyplot as plt\n",
    "print('NetworkX version')"
   ]
  },
  {
   "cell_type": "code",
   "execution_count": null,
   "id": "95cca431-3ca9-4fc6-b3ac-659b035d6059",
   "metadata": {},
   "outputs": [],
   "source": [
    "# create teh network\n",
    "G = nx.Graph()\n",
    "G.add_nodes_from([1,2,3,4,5,6,7])\n",
    "G.add_edges_from([(1,2),(1,3),(2,3),(2,4),(4,5),(5,6),(6,7),(5,7)]) \n",
    "G.edges()"
   ]
  },
  {
   "cell_type": "code",
   "execution_count": null,
   "id": "43059fee-d136-403c-aaa6-cb2ba1f1e256",
   "metadata": {},
   "outputs": [],
   "source": [
    "#draw the network\n",
    "nx.draw(G)\n",
    "plt.show()"
   ]
  },
  {
   "cell_type": "code",
   "execution_count": null,
   "id": "d963c536-d474-4af9-a5df-345927902c30",
   "metadata": {},
   "outputs": [],
   "source": [
    "density = nx.density(G)\n",
    "print(\"network density:\", density)"
   ]
  },
  {
   "cell_type": "code",
   "execution_count": null,
   "id": "ab69269a-4be3-4513-9d0f-9cc39b3da5ae",
   "metadata": {},
   "outputs": [],
   "source": [
    "#number of neighbors\n",
    "nx.degree_centrality(G) #Centrality"
   ]
  },
  {
   "cell_type": "code",
   "execution_count": null,
   "id": "c8acb796-3322-45cc-880a-aec82ae2a852",
   "metadata": {},
   "outputs": [],
   "source": [
    "nx.betweenness_centrality(G)"
   ]
  },
  {
   "cell_type": "code",
   "execution_count": null,
   "id": "b8a28a43-d11c-4076-8044-fb6c583c53eb",
   "metadata": {},
   "outputs": [],
   "source": [
    "nodes = list(G.neighbors(5)) #list neighbors of node 5\n",
    "nodes"
   ]
  },
  {
   "cell_type": "code",
   "execution_count": null,
   "id": "3e9495c6-2ee1-4396-93c9-ecf76f744213",
   "metadata": {},
   "outputs": [],
   "source": [
    "nodes.append(6)\n",
    "G_six = G.subgraph(nodes)\n",
    "G_six.edges()"
   ]
  },
  {
   "cell_type": "code",
   "execution_count": null,
   "id": "4d0f4fe0-d0ca-46a8-b830-908dad0550f8",
   "metadata": {},
   "outputs": [],
   "source": [
    "display(G_six)\n",
    "display(G)"
   ]
  },
  {
   "cell_type": "code",
   "execution_count": null,
   "id": "f8ebe4bb-1095-4882-9098-01c249374ea8",
   "metadata": {},
   "outputs": [],
   "source": [
    "nx.draw(G_six)"
   ]
  },
  {
   "cell_type": "code",
   "execution_count": null,
   "id": "7b3ea401-c8bc-4ffe-8a5c-a1a6f7063bb3",
   "metadata": {},
   "outputs": [],
   "source": []
  }
 ],
 "metadata": {
  "kernelspec": {
   "display_name": "anaconda-2022.05-py39",
   "language": "python",
   "name": "conda-env-anaconda-2022.05-py39-py"
  },
  "language_info": {
   "codemirror_mode": {
    "name": "ipython",
    "version": 3
   },
   "file_extension": ".py",
   "mimetype": "text/x-python",
   "name": "python",
   "nbconvert_exporter": "python",
   "pygments_lexer": "ipython3",
   "version": "3.9.12"
  }
 },
 "nbformat": 4,
 "nbformat_minor": 5
}
