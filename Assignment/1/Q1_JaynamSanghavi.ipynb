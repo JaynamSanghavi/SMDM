{
  "cells": [
    {
      "cell_type": "markdown",
      "source": [
        "# SMDM: Assignmen1 Q1\n",
        "Jaynam Hasmukh Sanghavi <br>\n",
        "\n"
      ],
      "metadata": {
        "id": "2Z2TNSc2LiHF"
      }
    },
    {
      "cell_type": "markdown",
      "source": [
        "In this we created a function which will take all the marks like, assignment 1; assignment 2; assignment 3; project and mid term exam. Given the weightage of each marks final score will be calculated."
      ],
      "metadata": {
        "id": "MHR1bXTAMBLN"
      }
    },
    {
      "cell_type": "code",
      "source": [
        "def calculateMarks(assignment_1,assignment_2,assignment_3,midterm_1,project):\n",
        "  grade = ((0.1*assignment_1) + (0.1*assignment_2) + (0.1*assignment_3) + (0.2*midterm_1) + (0.5*project))\n",
        "  if grade >= 95:\n",
        "    return 'A+', grade\n",
        "  elif grade >= 90:\n",
        "    return 'A-', grade\n",
        "  elif grade >= 80:\n",
        "    return 'B', grade\n",
        "  elif grade >= 70:\n",
        "    return 'C', grade\n",
        "  else:\n",
        "    return 'F', grade"
      ],
      "metadata": {
        "id": "4lX1uBXMNesc"
      },
      "execution_count": null,
      "outputs": []
    },
    {
      "cell_type": "markdown",
      "source": [
        "Getting the scores from user"
      ],
      "metadata": {
        "id": "d07cFj2NWP4-"
      }
    },
    {
      "cell_type": "code",
      "source": [
        "#Assuming all the marks are out of 100\n",
        "student_name = input('Enter the name: ')\n",
        "assignment_1 = float(input('Enter the marks for assignment 1: '))\n",
        "assignment_2 = float(input('Enter the marks for assignment 2: '))\n",
        "assignment_3 = float(input('Enter the marks for assignment 3: '))\n",
        "midterm = float(input('Enter the marks for mid term assignment: '))\n",
        "project = float(input('Enter the marks for project: '))\n",
        "grade, perc = calculateMarks(assignment_1,assignment_2,assignment_3,midterm,project)\n",
        "print(student_name + \" has scored \" + grade + \" (\"+ str(round(perc,2)) + \"%)\")"
      ],
      "metadata": {
        "colab": {
          "base_uri": "https://localhost:8080/"
        },
        "id": "1TS3VME6WOqZ",
        "outputId": "1dc21aeb-6b4e-4f35-d03b-3b62517332c5"
      },
      "execution_count": null,
      "outputs": [
        {
          "output_type": "stream",
          "name": "stdout",
          "text": [
            "Enter the name: J\n",
            "Enter the marks for assignment 1: 100\n",
            "Enter the marks for assignment 2: 90\n",
            "Enter the marks for assignment 3: 98\n",
            "Enter the marks for mid term assignment: 80\n",
            "Enter the marks for project: 80\n",
            "J has scored C (84.8%)\n"
          ]
        }
      ]
    }
  ],
  "metadata": {
    "colab": {
      "provenance": []
    },
    "kernelspec": {
      "display_name": "Python 3",
      "name": "python3"
    }
  },
  "nbformat": 4,
  "nbformat_minor": 0
}