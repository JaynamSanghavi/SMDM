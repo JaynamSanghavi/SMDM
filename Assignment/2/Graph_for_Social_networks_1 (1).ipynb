{
 "cells": [
  {
   "cell_type": "markdown",
   "id": "83434ffb-ca72-42e7-b6b9-c24b3d723fff",
   "metadata": {
    "tags": []
   },
   "source": [
    "### Week 3 - NetworkX for Graphs\n",
    "## NetworkX Python package for the creation, manipulation, and study of sturcture, dynamics and functions of complex networks\n",
    "\n"
   ]
  },
  {
   "cell_type": "code",
   "execution_count": 26,
   "id": "084354fe-9353-4e65-a6b9-b171e107964d",
   "metadata": {},
   "outputs": [
    {
     "name": "stdout",
     "output_type": "stream",
     "text": [
      "NetworkX version: {}\n"
     ]
    }
   ],
   "source": [
    "\n",
    "import networkx as nx\n",
    "import matplotlib.pyplot as plt\n",
    "print('NetworkX version: {}')"
   ]
  },
  {
   "cell_type": "markdown",
   "id": "1a42dec0-5a81-40ba-90e2-7fc9e4c5eba1",
   "metadata": {},
   "source": [
    "##### Graph Representation\n",
    "##### Common graph representations- undirected graph of 3 nodes"
   ]
  },
  {
   "cell_type": "code",
   "execution_count": 27,
   "id": "c07a739a-a360-4f26-b42c-21b08a670c62",
   "metadata": {},
   "outputs": [],
   "source": [
    "G = nx.Graph()\n",
    "D = nx.DiGraph()\n",
    "MG = nx.MultiGraph()\n",
    "MDG = nx.MultiDiGraph()"
   ]
  },
  {
   "cell_type": "code",
   "execution_count": null,
   "id": "e92050e2-b606-4072-b314-d191fdd5a571",
   "metadata": {},
   "outputs": [],
   "source": [
    "G = nx.Graph()\n",
    "G.add_edges_from([('A','B'),('A','C'),('B','C')])\n",
    "nx.draw(G, node_size=800, node_color='yellow', with_labels=True)\n"
   ]
  },
  {
   "cell_type": "markdown",
   "id": "c0d36269-95ae-4083-954f-bc37528be63c",
   "metadata": {},
   "source": [
    "#### NetworkX uses a dictionary of dictionaries based Adjacency List format (fats and lightweight for sparce graphs.\n",
    "#### Allows for natural expressions as\n",
    "#### n in G to test if the graph G contains node n\n",
    "#### for n in G to loop over all nodes\n",
    "#### G[n]  to access all neighbors of n in G\n",
    "#### len(G) to get the number of nodes in G"
   ]
  },
  {
   "cell_type": "code",
   "execution_count": null,
   "id": "ff819eb2-22bd-4abb-a4fb-7f3ca101cdf8",
   "metadata": {},
   "outputs": [],
   "source": [
    "print(G.adj) "
   ]
  },
  {
   "cell_type": "code",
   "execution_count": null,
   "id": "a2010a4f-3938-409b-863d-8c01c8b8cd5a",
   "metadata": {},
   "outputs": [],
   "source": [
    "'A' in G"
   ]
  },
  {
   "cell_type": "code",
   "execution_count": null,
   "id": "bb14c5e1-29db-4a81-8f38-17b785aa2223",
   "metadata": {},
   "outputs": [],
   "source": [
    "for n in G:\n",
    "    print(n)"
   ]
  },
  {
   "cell_type": "code",
   "execution_count": null,
   "id": "a13b5693-e3ff-4d62-a5ac-bd7fa4496d74",
   "metadata": {},
   "outputs": [],
   "source": [
    "G['A']"
   ]
  },
  {
   "cell_type": "code",
   "execution_count": null,
   "id": "df2198f1-2660-4c17-883f-3118a3df8128",
   "metadata": {},
   "outputs": [],
   "source": [
    "len(G)"
   ]
  },
  {
   "cell_type": "markdown",
   "id": "eff67e17-9605-4683-8857-c73d916a67a5",
   "metadata": {},
   "source": [
    "#### Adding and removing Nodes and Edges in a Graph\n",
    "#### Growing a Graph G\n",
    "#### Adding Nodes with:\n",
    "#### 1. G.add_node : One node at a time\n"
   ]
  },
  {
   "cell_type": "code",
   "execution_count": null,
   "id": "38f37756-edac-45df-b841-eceafbc57341",
   "metadata": {},
   "outputs": [],
   "source": [
    "# Create an undirectional Graph\n",
    "G = nx.Graph()\n",
    "#One node at a time\n",
    "G.add_node(1)\n",
    "# A list of nodes\n",
    "G.add_nodes_from([2,3])\n"
   ]
  },
  {
   "cell_type": "markdown",
   "id": "8d807610-c100-43e6-bd58-484d18f160e3",
   "metadata": {},
   "source": [
    "#### Growing G by adding edges\n",
    "#### If the nodes refereed by edges do not exist, they will be automatically added to the graph"
   ]
  },
  {
   "cell_type": "code",
   "execution_count": null,
   "id": "b2de962a-3b68-41ff-ac75-ab013887860a",
   "metadata": {},
   "outputs": [],
   "source": [
    "# Adding a sngle edge\n",
    "G.add_edge(1,2)"
   ]
  },
  {
   "cell_type": "markdown",
   "id": "924ce9db-e4a0-4ba8-bd86-76b03e892681",
   "metadata": {},
   "source": [
    "#### Adding and removing Graph,Node and Edge attributes (each can hold key/value attribute pairs in an associated attribute dictionary"
   ]
  },
  {
   "cell_type": "code",
   "execution_count": null,
   "id": "d5e35111-b424-41c7-94a9-db3f9fbe0f7b",
   "metadata": {},
   "outputs": [],
   "source": [
    "#Graph Attributes\n",
    "# Assign graph attributes when creating a new graph\n",
    "G = nx.Graph(day='Friday', name='My Graph')\n",
    "G.graph # Access to the dictionary that stores graph attributes"
   ]
  },
  {
   "cell_type": "code",
   "execution_count": null,
   "id": "a7624f35-547a-4b6e-bda2-d831a99572dd",
   "metadata": {},
   "outputs": [],
   "source": [
    "# modify attributes later\n",
    "G.graph['day']='Monday'\n",
    "G.graph"
   ]
  },
  {
   "cell_type": "markdown",
   "id": "0ef6c41b-9a08-4399-b424-64cfe9fb2aa0",
   "metadata": {},
   "source": [
    "#### Adding node attributes"
   ]
  },
  {
   "cell_type": "code",
   "execution_count": null,
   "id": "6c6ea1fc-f581-49e2-94ea-0a9b5eba85a6",
   "metadata": {},
   "outputs": [],
   "source": [
    "G.add_node(1, time='5pm') #add an attribute for one node\n",
    "G.add_nodes_from([3], time='2pm') #adding attributes to multiple nodes\n",
    "#G.node[1]['romm'] = 714 # adding a new attribute\n",
    "G.add_node(3, room=715) # adding a new attribute for existing node\n",
    "#G.node[3]['time'] # access attribute of a node\n"
   ]
  },
  {
   "cell_type": "code",
   "execution_count": null,
   "id": "1cae232f-7e1d-4d25-9fa3-92e2a65e7983",
   "metadata": {},
   "outputs": [],
   "source": [
    "nx.set_edge_attributes(G, 'grade', {1: 'A', 3:'C'})\n",
    "nx.set_edge_attributes(G,'year', 2017)\n",
    "# Get a dictionary keyed by a node with the value of node attributes\n",
    "nx.get_node_attributes(G, 'time')"
   ]
  },
  {
   "cell_type": "markdown",
   "id": "521a5d0d-993b-4777-8f51-5d185808fd0f",
   "metadata": {},
   "source": [
    "#### Edge Attributes"
   ]
  },
  {
   "cell_type": "code",
   "execution_count": null,
   "id": "a501c5c3-aaa4-4c0a-b8fb-076a70c17d10",
   "metadata": {},
   "outputs": [],
   "source": [
    "G.add_edge(1,2, weight=4.0)\n",
    "G.add_edges_from([(3,4),(4,5)], color='red')\n",
    "G.add_edges_from([(1, 2, {'color':'blue'}), (2,3, {'weight':8})])\n",
    "# after adding an edge, use the subscript notation or update the edge attributes dictionary\n",
    "G[1][2]['weight']= 4.0\n",
    "#G.edge[1][2]['weight']=4.0"
   ]
  },
  {
   "cell_type": "code",
   "execution_count": null,
   "id": "601459fb-3440-4fdf-be11-6936c6b1b6c8",
   "metadata": {},
   "outputs": [],
   "source": [
    "# Add a new attributes for an existing edge\n",
    "G.add_edge(3, 4, weight=12)\n",
    "# access the value of edge attributes\n",
    "G[1][2]['weight']\n",
    "# access attribues dictionary for edge 1--2\n",
    "G[1][2]\n",
    "#acces edges without attributes\n",
    "list(G.edges())"
   ]
  },
  {
   "cell_type": "code",
   "execution_count": null,
   "id": "36b5b229-e2ef-4066-9d53-f45a1867a18c",
   "metadata": {},
   "outputs": [],
   "source": [
    "#to get edge attributes\n",
    "nx.get_edge_attributes(G, 'friendship')"
   ]
  },
  {
   "cell_type": "code",
   "execution_count": null,
   "id": "7abaaa3c-6784-4f26-a466-322a487f98d5",
   "metadata": {},
   "outputs": [],
   "source": [
    "#to get the graph info\n",
    "print(nx.info(G))"
   ]
  },
  {
   "cell_type": "markdown",
   "id": "b683d1b7-e00d-4a59-997e-4dda15bfb3ef",
   "metadata": {},
   "source": [
    "## Creating a graph object using networkx - has number of built-in functions that will create random networks. Example Barabasi-Albert graph"
   ]
  },
  {
   "cell_type": "code",
   "execution_count": 28,
   "id": "154a0583-7c21-4e47-abe1-3691537a6ba3",
   "metadata": {},
   "outputs": [],
   "source": [
    "G = nx.barabasi_albert_graph(100,2)"
   ]
  },
  {
   "cell_type": "code",
   "execution_count": 29,
   "id": "3216b51b-674d-4ed3-8993-911d8c44b72b",
   "metadata": {},
   "outputs": [
    {
     "data": {
      "image/png": "[encoded data removed]",
      "text/plain": [
       "<Figure size 432x288 with 1 Axes>"
      ]
     },
     "metadata": {},
     "output_type": "display_data"
    }
   ],
   "source": [
    "nx.draw_spring(G) #visualization"
   ]
  },
  {
   "cell_type": "code",
   "execution_count": 30,
   "id": "437bfa15-a6c7-4e1b-a65d-11cd2d4aa543",
   "metadata": {},
   "outputs": [
    {
     "data": {
      "text/plain": [
       "(array([68., 16.,  6.,  3.,  2.,  0.,  1.,  3.,  0.,  1.]),\n",
       " array([ 2.,  4.,  6.,  8., 10., 12., 14., 16., 18., 20., 22.]),\n",
       " <BarContainer object of 10 artists>)"
      ]
     },
     "execution_count": 30,
     "metadata": {},
     "output_type": "execute_result"
    },
    {
     "data": {
      "image/png": "[encoded data removed]",
      "text/plain": [
       "<Figure size 432x288 with 1 Axes>"
      ]
     },
     "metadata": {
      "needs_background": "light"
     },
     "output_type": "display_data"
    }
   ],
   "source": [
    "plt.hist([v for k, v in nx.degree(G)])\n"
   ]
  },
  {
   "cell_type": "code",
   "execution_count": 31,
   "id": "49b1d609-33c7-4cec-af4e-ee46d978b811",
   "metadata": {},
   "outputs": [
    {
     "data": {
      "text/plain": [
       "(array([79., 10.,  4.,  2.,  0.,  1.,  1.,  2.,  0.,  1.]),\n",
       " array([0.        , 0.02441726, 0.04883452, 0.07325178, 0.09766903,\n",
       "        0.12208629, 0.14650355, 0.17092081, 0.19533807, 0.21975533,\n",
       "        0.24417259]),\n",
       " <BarContainer object of 10 artists>)"
      ]
     },
     "execution_count": 31,
     "metadata": {},
     "output_type": "execute_result"
    },
    {
     "data": {
      "image/png": "[encoded data removed]",
      "text/plain": [
       "<Figure size 432x288 with 1 Axes>"
      ]
     },
     "metadata": {
      "needs_background": "light"
     },
     "output_type": "display_data"
    }
   ],
   "source": [
    "plt.hist(nx.centrality.betweenness_centrality(G).values())"
   ]
  },
  {
   "cell_type": "code",
   "execution_count": 32,
   "id": "b435b882-754e-42ae-9186-edb6b23b42df",
   "metadata": {},
   "outputs": [
    {
     "data": {
      "text/plain": [
       "6"
      ]
     },
     "execution_count": 32,
     "metadata": {},
     "output_type": "execute_result"
    }
   ],
   "source": [
    "nx.diameter(G)"
   ]
  },
  {
   "cell_type": "code",
   "execution_count": 33,
   "id": "b59c404e-80da-4aa5-a33d-6b0442269e62",
   "metadata": {},
   "outputs": [
    {
     "data": {
      "text/plain": [
       "0.08501387827858416"
      ]
     },
     "execution_count": 33,
     "metadata": {},
     "output_type": "execute_result"
    }
   ],
   "source": [
    "nx.cluster.average_clustering(G)"
   ]
  },
  {
   "cell_type": "code",
   "execution_count": null,
   "id": "34ab86d2-3932-4e96-ae61-e96e073f42d0",
   "metadata": {},
   "outputs": [],
   "source": []
  }
 ],
 "metadata": {
  "kernelspec": {
   "display_name": "anaconda-2022.05-py39",
   "language": "python",
   "name": "conda-env-anaconda-2022.05-py39-py"
  },
  "language_info": {
   "codemirror_mode": {
    "name": "ipython",
    "version": 3
   },
   "file_extension": ".py",
   "mimetype": "text/x-python",
   "name": "python",
   "nbconvert_exporter": "python",
   "pygments_lexer": "ipython3",
   "version": "3.9.12"
  }
 },
 "nbformat": 4,
 "nbformat_minor": 5
}
