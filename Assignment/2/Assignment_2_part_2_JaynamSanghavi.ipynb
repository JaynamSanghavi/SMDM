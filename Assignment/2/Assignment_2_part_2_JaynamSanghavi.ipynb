{
  "nbformat": 4,
  "nbformat_minor": 0,
  "metadata": {
    "colab": {
      "provenance": []
    },
    "kernelspec": {
      "name": "python3",
      "display_name": "Python 3"
    },
    "language_info": {
      "name": "python"
    }
  },
  "cells": [
    {
      "cell_type": "markdown",
      "source": [
        "### Part 2 [4 marks] <br>\n",
        "In order to answer following questions, you will use a directed social network of blogs\n",
        "(G2) in which nodes represent a blog and edges represent links between blogs. You may\n",
        "use PageRank and Hyperlink Induced Topic Search (HITS) to answer Questions 4-8."
      ],
      "metadata": {
        "id": "YGzLnWdS6Bbg"
      }
    },
    {
      "cell_type": "code",
      "execution_count": 14,
      "metadata": {
        "colab": {
          "base_uri": "https://localhost:8080/"
        },
        "id": "nXWvK7so43Hu",
        "outputId": "3fa24e5a-c30e-4819-e913-df40d2b955d2"
      },
      "outputs": [
        {
          "output_type": "stream",
          "name": "stdout",
          "text": [
            "Looking in indexes: https://pypi.org/simple, https://us-python.pkg.dev/colab-wheels/public/simple/\n",
            "Requirement already satisfied: networkx<2.7 in /usr/local/lib/python3.8/dist-packages (2.6.3)\n",
            "Looking in indexes: https://pypi.org/simple, https://us-python.pkg.dev/colab-wheels/public/simple/\n",
            "Requirement already satisfied: scipy>=1.8 in /usr/local/lib/python3.8/dist-packages (1.10.1)\n",
            "Requirement already satisfied: numpy<1.27.0,>=1.19.5 in /usr/local/lib/python3.8/dist-packages (from scipy>=1.8) (1.22.4)\n"
          ]
        }
      ],
      "source": [
        "!pip install 'networkx<2.7'\n",
        "!pip install 'scipy>=1.8'\n",
        "\n",
        "\n",
        "import networkx as nx\n",
        "G1 = nx.Graph()\n",
        "G1 = nx.read_gml('blogs.gml')"
      ]
    },
    {
      "cell_type": "markdown",
      "source": [
        "Q4) Find the five nodes with highest page rank using the Scaled Page Rank Algorithm with\n",
        "damping value 0.8. Find the 5 nodes with highest Page Rank."
      ],
      "metadata": {
        "id": "l5WTxSzA6WYO"
      }
    },
    {
      "cell_type": "code",
      "source": [
        "# calculate PageRank with damping value 0.8\n",
        "pagerank = nx.pagerank(G1, alpha=0.8)\n",
        "\n",
        "# get the top five nodes with highest PageRank\n",
        "top_pagerank = sorted(pagerank, key=pagerank.get, reverse=True)[:5]\n",
        "\n",
        "print(\"The top 5 nodes with highest page rank using the Scaled Page Rank Algorithm:\", top_pagerank)"
      ],
      "metadata": {
        "colab": {
          "base_uri": "https://localhost:8080/"
        },
        "id": "cCWaGJlj6BKB",
        "outputId": "831b3c9e-afcf-4864-e625-54e8cafcf202"
      },
      "execution_count": 15,
      "outputs": [
        {
          "output_type": "stream",
          "name": "stdout",
          "text": [
            "The top 5 nodes with highest page rank using the Scaled Page Rank Algorithm: ['dailykos.com', 'atrios.blogspot.com', 'blogsforbush.com', 'instapundit.com', 'talkingpointsmemo.com']\n"
          ]
        }
      ]
    },
    {
      "cell_type": "markdown",
      "source": [
        "Q5)Find the hub and authority scores of the node 'realclearpolitics.com' using the HITS\n",
        "Algorithm to the network."
      ],
      "metadata": {
        "id": "ED1McHaA7k8l"
      }
    },
    {
      "cell_type": "code",
      "source": [
        "# calculate HITS scores\n",
        "hits = nx.hits(G1)\n",
        "\n",
        "# get the hub and authority scores of the node 'realclearpolitics.com'\n",
        "rcp_hub_score = hits[0]['realclearpolitics.com']\n",
        "rcp_auth_score = hits[1]['realclearpolitics.com']\n",
        "\n",
        "print(\"Hub score of 'realclearpolitics.com':\", rcp_hub_score)\n",
        "print(\"Authority score of 'realclearpolitics.com':\", rcp_auth_score)"
      ],
      "metadata": {
        "colab": {
          "base_uri": "https://localhost:8080/"
        },
        "id": "ZUA7xBJu7u8C",
        "outputId": "2e7dc10c-274d-4c30-966a-f383f9ee534f"
      },
      "execution_count": 16,
      "outputs": [
        {
          "output_type": "stream",
          "name": "stdout",
          "text": [
            "Hub score of 'realclearpolitics.com': 0.0003243556140278723\n",
            "Authority score of 'realclearpolitics.com': 0.0039189576449342465\n"
          ]
        }
      ]
    },
    {
      "cell_type": "markdown",
      "source": [
        "Q6) Find the 5 nodes with highest hub scores"
      ],
      "metadata": {
        "id": "nXMOUHOz7oY7"
      }
    },
    {
      "cell_type": "code",
      "source": [
        "# get the top five nodes with highest hub scores\n",
        "top_hub_scores = sorted(hits[0], key=hits[0].get, reverse=True)[:5]\n",
        "\n",
        "print(\"Top 5 nodes with highest hub scores:\", top_hub_scores)\n"
      ],
      "metadata": {
        "colab": {
          "base_uri": "https://localhost:8080/"
        },
        "id": "LlGMrs0k8NkM",
        "outputId": "e8a6d077-696e-470a-8638-5a07170c825e"
      },
      "execution_count": 17,
      "outputs": [
        {
          "output_type": "stream",
          "name": "stdout",
          "text": [
            "Top 5 nodes with highest hub scores: ['politicalstrategy.org', 'madkane.com/notable.html', 'liberaloasis.com', 'stagefour.typepad.com/commonprejudice', 'bodyandsoul.typepad.com']\n"
          ]
        }
      ]
    },
    {
      "cell_type": "markdown",
      "source": [
        "Q7) Find the 5 nodes with highest authority scores."
      ],
      "metadata": {
        "id": "V9KMy_8t7q4l"
      }
    },
    {
      "cell_type": "code",
      "source": [
        "# Get the 5 nodes with highest authority scores\n",
        "top_authority_scores = sorted(hits[1].items(), key=lambda x: x[1], reverse=True)[:5]\n",
        "\n",
        "# Print the top 5 nodes with highest authority scores\n",
        "print(\"Top 5 nodes with highest authority scores:\")\n",
        "for node, score in top_authority_scores:\n",
        "    print(f\"{node}: {score:.4f}\")"
      ],
      "metadata": {
        "colab": {
          "base_uri": "https://localhost:8080/"
        },
        "id": "6qihcQWt8d-h",
        "outputId": "6c8ffbb3-6769-4d17-a7d6-b5e076c6e408"
      },
      "execution_count": 18,
      "outputs": [
        {
          "output_type": "stream",
          "name": "stdout",
          "text": [
            "Top 5 nodes with highest authority scores:\n",
            "dailykos.com: 0.0150\n",
            "talkingpointsmemo.com: 0.0145\n",
            "atrios.blogspot.com: 0.0141\n",
            "washingtonmonthly.com: 0.0120\n",
            "talkleft.com: 0.0097\n"
          ]
        }
      ]
    }
  ]
}